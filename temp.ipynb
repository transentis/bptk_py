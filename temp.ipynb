{
 "cells": [
  {
   "cell_type": "code",
   "execution_count": 3,
   "metadata": {},
   "outputs": [
    {
     "ename": "AssertionError",
     "evalue": "",
     "output_type": "error",
     "traceback": [
      "\u001b[1;31m---------------------------------------------------------------------------\u001b[0m",
      "\u001b[1;31mAssertionError\u001b[0m                            Traceback (most recent call last)",
      "\u001b[1;32m~\\AppData\\Local\\Temp/ipykernel_7336/1907493607.py\u001b[0m in \u001b[0;36m<module>\u001b[1;34m\u001b[0m\n\u001b[0;32m     61\u001b[0m     \u001b[0mresult\u001b[0m \u001b[1;33m=\u001b[0m \u001b[0mx\u001b[0m\u001b[1;33m(\u001b[0m\u001b[0mi\u001b[0m\u001b[1;33m)\u001b[0m\u001b[1;33m\u001b[0m\u001b[1;33m\u001b[0m\u001b[0m\n\u001b[0;32m     62\u001b[0m     \u001b[1;32mif\u001b[0m \u001b[0mi\u001b[0m \u001b[1;33m<\u001b[0m \u001b[1;36m100\u001b[0m\u001b[1;33m:\u001b[0m\u001b[1;33m\u001b[0m\u001b[1;33m\u001b[0m\u001b[0m\n\u001b[1;32m---> 63\u001b[1;33m         \u001b[1;32massert\u001b[0m \u001b[0mresult\u001b[0m \u001b[1;33m==\u001b[0m \u001b[1;36m0\u001b[0m\u001b[1;33m\u001b[0m\u001b[1;33m\u001b[0m\u001b[0m\n\u001b[0m\u001b[0;32m     64\u001b[0m     \u001b[1;32melse\u001b[0m\u001b[1;33m:\u001b[0m\u001b[1;33m\u001b[0m\u001b[1;33m\u001b[0m\u001b[0m\n\u001b[0;32m     65\u001b[0m         \u001b[1;32massert\u001b[0m \u001b[0mresult\u001b[0m \u001b[1;33m==\u001b[0m \u001b[1;36m1\u001b[0m\u001b[1;33m\u001b[0m\u001b[1;33m\u001b[0m\u001b[0m\n",
      "\u001b[1;31mAssertionError\u001b[0m: "
     ]
    },
    {
     "data": {
      "image/png": "[encoded data removed]",
      "text/plain": [
       "<Figure size 1440x720 with 1 Axes>"
      ]
     },
     "metadata": {
      "needs_background": "light"
     },
     "output_type": "display_data"
    }
   ],
   "source": [
    "from BPTK_Py import Model\n",
    "from BPTK_Py import sd_functions as sd\n",
    "model = Model(starttime=0.0, stoptime=120.0, dt=1.0,\n",
    "                name='SimpleProjectManagement')\n",
    "\n",
    "openTasks = model.stock(\"openTasks\")\n",
    "closedTasks = model.stock(\"closedTasks\")\n",
    "staff = model.stock(\"staff\")\n",
    "completionRate = model.flow(\"completionRate\")\n",
    "currentTime = model.converter(\"currentTime\")\n",
    "remainingTime = model.converter(\"remainingTime\")\n",
    "schedulePressure = model.converter(\"schedulePressure\")\n",
    "productivity = model.converter(\"productivity\")\n",
    "deadline = model.constant(\"deadline\")\n",
    "effortPerTask = model.constant(\"effortPerTask\")\n",
    "initialStaff = model.constant(\"initialStaff\")\n",
    "initialOpenTasks = model.constant(\"initialOpenTasks\")\n",
    "\n",
    "closedTasks.initial_value = 0.0\n",
    "staff.initial_value = initialStaff\n",
    "openTasks.initial_value = initialOpenTasks\n",
    "deadline.equation = 100.0\n",
    "effortPerTask.equation = 1.0\n",
    "initialStaff.equation = 1.0\n",
    "initialOpenTasks.equation = 100.0\n",
    "\n",
    "currentTime.equation = sd.time()\n",
    "remainingTime.equation = deadline - currentTime\n",
    "openTasks.equation = -completionRate\n",
    "closedTasks.equation = completionRate\n",
    "\n",
    "schedulePressure.equation = sd.min(\n",
    "    (openTasks * effortPerTask) / (staff * sd.max(remainingTime, 1)), 2.5)\n",
    "\n",
    "model.points[\"productivity\"] = [\n",
    "    [0, 0.4],\n",
    "    [0.25, 0.444],\n",
    "    [0.5, 0.506],\n",
    "    [0.75, 0.594],\n",
    "    [1, 1],\n",
    "    [1.25, 1.119],\n",
    "    [1.5, 1.1625],\n",
    "    [1.75, 1.2125],\n",
    "    [2, 1.2375],\n",
    "    [2.25, 1.245],\n",
    "    [2.5, 1.25]\n",
    "]\n",
    "\n",
    "productivity.equation = sd.lookup(schedulePressure, \"productivity\")\n",
    "completionRate.equation = sd.max(0.0, sd.min(\n",
    "    openTasks, staff * (productivity / effortPerTask)))\n",
    "\n",
    "productivity.plot()\n",
    "\n",
    "x = model.converter(\"x\")\n",
    "\n",
    "# !=\n",
    "x.equation = sd.If(productivity != 1.0, 1, 0)\n",
    "\n",
    "for i in range(0, 120+1):\n",
    "    result = x(i)\n",
    "    if i < 100:\n",
    "        assert result == 0\n",
    "    else:\n",
    "        assert result == 1\n",
    "\n",
    "# ==\n",
    "x.equation = sd.If(productivity == 1.0, 1, 0)\n",
    "\n",
    "for i in range(0, 120+1):\n",
    "    result = x(i)\n",
    "    if i < 100:\n",
    "        assert result == 1\n",
    "    else:\n",
    "        assert result == 0\n",
    "\n",
    "# >\n",
    "x.equation = sd.If(productivity > 1.0, 1, 0)\n",
    "\n",
    "for i in range(0, 120+1):\n",
    "    result = x(i)\n",
    "    assert result == 0\n",
    "\n",
    "# <\n",
    "x.equation = sd.If(productivity < 1.0, 1, 0)\n",
    "\n",
    "for i in range(0, 120+1):\n",
    "    result = x(i)\n",
    "    if i < 100:\n",
    "        assert result == 0\n",
    "    else:\n",
    "        assert result == 1\n",
    "\n",
    "# <=\n",
    "x.equation = sd.If(productivity <= 1.0, 1, 0)\n",
    "\n",
    "for i in range(0, 120+1):\n",
    "    result = x(i)\n",
    "\n",
    "    assert result == 1\n",
    "\n",
    "# >=\n",
    "x.equation = sd.If(productivity >= 1.0, 1, 0)\n",
    "\n",
    "for i in range(0, 120+1):\n",
    "    result = x(i)\n",
    "\n",
    "    if i < 100:\n",
    "        assert result == 1\n",
    "    else:\n",
    "        assert result == 0"
   ]
  }
 ],
 "metadata": {
  "kernelspec": {
   "display_name": "Python 3.9.7 ('bptk')",
   "language": "python",
   "name": "python3"
  },
  "language_info": {
   "codemirror_mode": {
    "name": "ipython",
    "version": 3
   },
   "file_extension": ".py",
   "mimetype": "text/x-python",
   "name": "python",
   "nbconvert_exporter": "python",
   "pygments_lexer": "ipython3",
   "version": "3.9.7"
  },
  "orig_nbformat": 4,
  "vscode": {
   "interpreter": {
    "hash": "094f0201946c9f644460566ecd8cf4651564f333550d4a1d3e02e23cab5f01d1"
   }
  }
 },
 "nbformat": 4,
 "nbformat_minor": 2
}
